{
 "cells": [
  {
   "cell_type": "code",
   "execution_count": 128,
   "id": "adjacent-toddler",
   "metadata": {
    "scrolled": true
   },
   "outputs": [],
   "source": [
    "import numpy as np\n",
    "import pandas as pd\n",
    "import matplotlib.pyplot as plt\n",
    "%matplotlib inline\n",
    "from sklearn.preprocessing import OneHotEncoder\n",
    "from sklearn.preprocessing import OrdinalEncoder\n",
    "from sklearn.preprocessing import LabelEncoder\n",
    "from category_encoders import TargetEncoder\n",
    "from sklearn.preprocessing import KBinsDiscretizer\n",
    "from sklearn.preprocessing import Binarizer\n",
    "from sklearn.preprocessing import PowerTransformer\n",
    "from sklearn.preprocessing import QuantileTransformer\n",
    "from sklearn.feature_extraction.text import CountVectorizer\n",
    "from sklearn.feature_extraction.text import TfidfVectorizer\n",
    "from sklearn.preprocessing import MinMaxScaler\n",
    "from sklearn.preprocessing import StandardScaler\n",
    "from sklearn.preprocessing import RobustScaler\n",
    "from sklearn.preprocessing import MaxAbsScaler\n",
    "from imblearn.under_sampling import RandomUnderSampler\n",
    "from imblearn.over_sampling import RandomOverSampler\n",
    "\n",
    "%config IPCompleter.greedy=True"
   ]
  },
  {
   "cell_type": "markdown",
   "id": "graduate-compensation",
   "metadata": {},
   "source": [
    "## UPLOAD DATASETS"
   ]
  },
  {
   "cell_type": "code",
   "execution_count": 129,
   "id": "f9d2de58",
   "metadata": {},
   "outputs": [],
   "source": [
    "path = '../../'"
   ]
  },
  {
   "cell_type": "code",
   "execution_count": 130,
   "id": "a9e2e04a",
   "metadata": {},
   "outputs": [],
   "source": [
    "name_cat = 'cat_eda_results.pickle'\n",
    "name_num = 'num_eda_results.pickle'"
   ]
  },
  {
   "cell_type": "code",
   "execution_count": 131,
   "id": "cab6ebcd",
   "metadata": {},
   "outputs": [],
   "source": [
    "cat = pd.read_pickle(path + '/02_Data/03_Work/' + name_cat)\n",
    "num = pd.read_pickle(path + '/02_Data/03_Work/' + name_num)"
   ]
  },
  {
   "cell_type": "markdown",
   "id": "a1350902",
   "metadata": {},
   "source": [
    "# target  separation"
   ]
  },
  {
   "cell_type": "code",
   "execution_count": 132,
   "id": "095b0ef2",
   "metadata": {},
   "outputs": [],
   "source": [
    "target = num[['compra']].copy().reset_index(drop=True)"
   ]
  },
  {
   "cell_type": "markdown",
   "id": "9790d322",
   "metadata": {},
   "source": [
    "## CATEGORICAL TRANSFORMATION"
   ]
  },
  {
   "cell_type": "markdown",
   "id": "f1fa5201",
   "metadata": {},
   "source": [
    "### One Hot Encoding"
   ]
  },
  {
   "cell_type": "markdown",
   "id": "da9b786a",
   "metadata": {},
   "source": [
    "#### Columns to  apply  OHE"
   ]
  },
  {
   "cell_type": "code",
   "execution_count": 133,
   "id": "6e36cf47",
   "metadata": {},
   "outputs": [],
   "source": [
    "var_ohe = ['origen','fuente','ult_actividad','ambito','ocupacion','descarga_lm']"
   ]
  },
  {
   "cell_type": "markdown",
   "id": "db8d4634",
   "metadata": {},
   "source": [
    "#### Training and apply"
   ]
  },
  {
   "cell_type": "code",
   "execution_count": 134,
   "id": "e75c2ee4",
   "metadata": {},
   "outputs": [],
   "source": [
    "ohe = OneHotEncoder(sparse = False, handle_unknown='ignore')"
   ]
  },
  {
   "cell_type": "code",
   "execution_count": 135,
   "id": "4162d5a7",
   "metadata": {},
   "outputs": [],
   "source": [
    "cat_ohe = ohe.fit_transform(cat[var_ohe])"
   ]
  },
  {
   "cell_type": "markdown",
   "id": "c9131f15",
   "metadata": {},
   "source": [
    "#### Save as dataframe"
   ]
  },
  {
   "cell_type": "code",
   "execution_count": 136,
   "id": "41479251",
   "metadata": {},
   "outputs": [],
   "source": [
    "cat_ohe = pd.DataFrame(cat_ohe, columns = ohe.get_feature_names_out())"
   ]
  },
  {
   "cell_type": "markdown",
   "id": "ec6bd31a",
   "metadata": {},
   "source": [
    "## NUMERICAL TRANSFORMATION"
   ]
  },
  {
   "cell_type": "code",
   "execution_count": 137,
   "id": "6158ae44",
   "metadata": {},
   "outputs": [],
   "source": [
    "df = pd.concat([cat_ohe,num.reset_index()],axis = 1) #unify datasets with the same rows number."
   ]
  },
  {
   "cell_type": "markdown",
   "id": "5f9ffae2",
   "metadata": {},
   "source": [
    "## RESCALE VARIABLES"
   ]
  },
  {
   "cell_type": "markdown",
   "id": "fbc62831",
   "metadata": {},
   "source": [
    "###  Min-Max"
   ]
  },
  {
   "cell_type": "code",
   "execution_count": 138,
   "id": "986effff",
   "metadata": {},
   "outputs": [
    {
     "name": "stdout",
     "output_type": "stream",
     "text": [
      "<class 'pandas.core.frame.DataFrame'>\n",
      "RangeIndex: 4814 entries, 0 to 4813\n",
      "Data columns (total 44 columns):\n",
      " #   Column                                    Non-Null Count  Dtype  \n",
      "---  ------                                    --------------  -----  \n",
      " 0   origen_API                                4814 non-null   float64\n",
      " 1   origen_Landing Page Submission            4814 non-null   float64\n",
      " 2   origen_Lead Add Form                      4814 non-null   float64\n",
      " 3   origen_OTHER                              4814 non-null   float64\n",
      " 4   fuente_Chat                               4814 non-null   float64\n",
      " 5   fuente_Direct Traffic                     4814 non-null   float64\n",
      " 6   fuente_Google                             4814 non-null   float64\n",
      " 7   fuente_OTHER                              4814 non-null   float64\n",
      " 8   fuente_Organic Search                     4814 non-null   float64\n",
      " 9   fuente_Reference                          4814 non-null   float64\n",
      " 10  ult_actividad_Chat Conversation           4814 non-null   float64\n",
      " 11  ult_actividad_Converted to Lead           4814 non-null   float64\n",
      " 12  ult_actividad_Email Link Clicked          4814 non-null   float64\n",
      " 13  ult_actividad_Email Opened                4814 non-null   float64\n",
      " 14  ult_actividad_OTHER                       4814 non-null   float64\n",
      " 15  ult_actividad_Page Visited on Website     4814 non-null   float64\n",
      " 16  ult_actividad_SMS Sent                    4814 non-null   float64\n",
      " 17  ambito_Banking, Investment And Insurance  4814 non-null   float64\n",
      " 18  ambito_Business Administration            4814 non-null   float64\n",
      " 19  ambito_Finance Management                 4814 non-null   float64\n",
      " 20  ambito_Healthcare Management              4814 non-null   float64\n",
      " 21  ambito_Human Resource Management          4814 non-null   float64\n",
      " 22  ambito_IT Projects Management             4814 non-null   float64\n",
      " 23  ambito_International Business             4814 non-null   float64\n",
      " 24  ambito_Marketing Management               4814 non-null   float64\n",
      " 25  ambito_Media and Advertising              4814 non-null   float64\n",
      " 26  ambito_OTHER                              4814 non-null   float64\n",
      " 27  ambito_Operations Management              4814 non-null   float64\n",
      " 28  ambito_Select                             4814 non-null   float64\n",
      " 29  ambito_Supply Chain Management            4814 non-null   float64\n",
      " 30  ambito_Travel and Tourism                 4814 non-null   float64\n",
      " 31  ocupacion_OTHER                           4814 non-null   float64\n",
      " 32  ocupacion_Student                         4814 non-null   float64\n",
      " 33  ocupacion_Unemployed                      4814 non-null   float64\n",
      " 34  ocupacion_Working Professional            4814 non-null   float64\n",
      " 35  descarga_lm_No                            4814 non-null   float64\n",
      " 36  descarga_lm_Yes                           4814 non-null   float64\n",
      " 37  id                                        4814 non-null   int64  \n",
      " 38  compra                                    4814 non-null   int64  \n",
      " 39  visitas_total                             4814 non-null   Int64  \n",
      " 40  tiempo_en_site_total                      4814 non-null   int64  \n",
      " 41  paginas_vistas_visita                     4814 non-null   float64\n",
      " 42  score_actividad                           4814 non-null   float64\n",
      " 43  score_perfil                              4814 non-null   float64\n",
      "dtypes: Int64(1), float64(40), int64(3)\n",
      "memory usage: 1.6 MB\n"
     ]
    }
   ],
   "source": [
    "df.info()"
   ]
  },
  {
   "cell_type": "markdown",
   "id": "de92d3fe",
   "metadata": {},
   "source": [
    "#### Variables a reescalar con Min-Max"
   ]
  },
  {
   "cell_type": "code",
   "execution_count": 139,
   "id": "4c9e40ba",
   "metadata": {},
   "outputs": [],
   "source": [
    "var_mms = df.iloc[:,39:].columns"
   ]
  },
  {
   "cell_type": "code",
   "execution_count": 140,
   "id": "5b5092c8",
   "metadata": {},
   "outputs": [
    {
     "data": {
      "text/plain": [
       "Index(['visitas_total', 'tiempo_en_site_total', 'paginas_vistas_visita',\n",
       "       'score_actividad', 'score_perfil'],\n",
       "      dtype='object')"
      ]
     },
     "execution_count": 140,
     "metadata": {},
     "output_type": "execute_result"
    }
   ],
   "source": [
    "var_mms"
   ]
  },
  {
   "cell_type": "markdown",
   "id": "b0b18ca7",
   "metadata": {},
   "source": [
    "#### Fit and apply"
   ]
  },
  {
   "cell_type": "code",
   "execution_count": 141,
   "id": "44a71f10",
   "metadata": {},
   "outputs": [],
   "source": [
    "mms = MinMaxScaler()\n",
    "df_mms = mms.fit_transform(df[var_mms])"
   ]
  },
  {
   "cell_type": "markdown",
   "id": "aea83d81",
   "metadata": {},
   "source": [
    "#### Save as  dataframe"
   ]
  },
  {
   "cell_type": "code",
   "execution_count": 142,
   "id": "d5ba3f86",
   "metadata": {},
   "outputs": [],
   "source": [
    "#Add siffix to the variables\n",
    "name_mms = [variable + '_mms' for variable in var_mms]\n",
    "\n",
    "#Save as dataframe\n",
    "df_mms = pd.DataFrame(df_mms,columns = name_mms)"
   ]
  },
  {
   "cell_type": "markdown",
   "id": "118dac36",
   "metadata": {},
   "source": [
    "## JOIN THE REESCALE DATASETS"
   ]
  },
  {
   "cell_type": "code",
   "execution_count": 143,
   "id": "e24af2bc",
   "metadata": {},
   "outputs": [],
   "source": [
    "id = df.id"
   ]
  },
  {
   "cell_type": "code",
   "execution_count": 144,
   "id": "628d2148",
   "metadata": {},
   "outputs": [],
   "source": [
    "df_tablon = pd.concat([id,cat_ohe,df_mms,target],axis = 1).set_index('id')"
   ]
  },
  {
   "cell_type": "markdown",
   "id": "9f098f8a",
   "metadata": {},
   "source": [
    "## SAVE DATASETS AFTER DATA TRANFORMATION"
   ]
  },
  {
   "cell_type": "code",
   "execution_count": 145,
   "id": "782bf43c",
   "metadata": {},
   "outputs": [],
   "source": [
    "path_df_tablon = path + '/02_Data/03_Work/' + 'df_tablon.pickle'\n",
    "df_tablon.to_pickle(path_df_tablon)"
   ]
  }
 ],
 "metadata": {
  "kernelspec": {
   "display_name": "Python 3 (ipykernel)",
   "language": "python",
   "name": "python3"
  },
  "language_info": {
   "codemirror_mode": {
    "name": "ipython",
    "version": 3
   },
   "file_extension": ".py",
   "mimetype": "text/x-python",
   "name": "python",
   "nbconvert_exporter": "python",
   "pygments_lexer": "ipython3",
   "version": "3.11.0"
  },
  "toc": {
   "base_numbering": 1,
   "nav_menu": {},
   "number_sections": true,
   "sideBar": true,
   "skip_h1_title": false,
   "title_cell": "Table of Contents",
   "title_sidebar": "Contents",
   "toc_cell": false,
   "toc_position": {
    "height": "calc(100% - 180px)",
    "left": "10px",
    "top": "150px",
    "width": "346.95px"
   },
   "toc_section_display": true,
   "toc_window_display": true
  },
  "varInspector": {
   "cols": {
    "lenName": 16,
    "lenType": 16,
    "lenVar": 40
   },
   "kernels_config": {
    "python": {
     "delete_cmd_postfix": "",
     "delete_cmd_prefix": "del ",
     "library": "var_list.py",
     "varRefreshCmd": "print(var_dic_list())"
    },
    "r": {
     "delete_cmd_postfix": ") ",
     "delete_cmd_prefix": "rm(",
     "library": "var_list.r",
     "varRefreshCmd": "cat(var_dic_list()) "
    }
   },
   "position": {
    "height": "546.85px",
    "left": "890.75px",
    "right": "20px",
    "top": "117px",
    "width": "350px"
   },
   "types_to_exclude": [
    "module",
    "function",
    "builtin_function_or_method",
    "instance",
    "_Feature"
   ],
   "window_display": false
  }
 },
 "nbformat": 4,
 "nbformat_minor": 5
}
