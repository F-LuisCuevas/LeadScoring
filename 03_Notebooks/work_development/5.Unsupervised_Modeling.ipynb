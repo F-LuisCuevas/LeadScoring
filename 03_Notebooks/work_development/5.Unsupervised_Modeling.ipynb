{
 "cells": [
  {
   "cell_type": "code",
   "execution_count": 19,
   "id": "adjacent-toddler",
   "metadata": {},
   "outputs": [],
   "source": [
    "import numpy as np\n",
    "import pandas as pd\n",
    "import matplotlib.pyplot as plt\n",
    "%matplotlib inline\n",
    "import seaborn as sns\n",
    "\n",
    "from sklearn.model_selection import train_test_split\n",
    "\n",
    "from sklearn.cluster import KMeans\n",
    "from sklearn.metrics import silhouette_score\n",
    "from sklearn.metrics import calinski_harabasz_score\n",
    "from sklearn.metrics import davies_bouldin_score\n",
    "\n",
    "from sklearn.model_selection import GridSearchCV\n",
    "\n",
    "%config IPCompleter.greedy=True\n",
    "pd.options.display.float_format = '{:.2f}'.format\n",
    "import warnings\n",
    "warnings.filterwarnings(\"ignore\")"
   ]
  },
  {
   "cell_type": "markdown",
   "id": "graduate-compensation",
   "metadata": {},
   "source": [
    "## UPLOAD DATASETS"
   ]
  },
  {
   "cell_type": "code",
   "execution_count": 20,
   "id": "f9d2de58",
   "metadata": {},
   "outputs": [],
   "source": [
    "path = '../../'"
   ]
  },
  {
   "cell_type": "code",
   "execution_count": 21,
   "id": "a9e2e04a",
   "metadata": {},
   "outputs": [],
   "source": [
    "name_df = 'df_tablon.pickle'"
   ]
  },
  {
   "cell_type": "code",
   "execution_count": 22,
   "id": "cab6ebcd",
   "metadata": {},
   "outputs": [],
   "source": [
    "df = pd.read_pickle(path + '/02_Data/03_Work/' + name_df)"
   ]
  },
  {
   "cell_type": "markdown",
   "id": "9790d322",
   "metadata": {},
   "source": [
    "   ## MODEL"
   ]
  },
  {
   "cell_type": "markdown",
   "id": "53bd4ad6",
   "metadata": {},
   "source": [
    "### Create  a solutions space"
   ]
  },
  {
   "cell_type": "markdown",
   "id": "c3cbff58",
   "metadata": {},
   "source": [
    "remove variables that do not help segmentation"
   ]
  },
  {
   "cell_type": "code",
   "execution_count": 23,
   "id": "f6ffbaaa",
   "metadata": {},
   "outputs": [],
   "source": [
    "df.drop(columns=['fuente_Chat',\n",
    "                'fuente_Direct Traffic',\n",
    "                'fuente_Google',\n",
    "                'fuente_OTHER',\n",
    "                'fuente_Organic Search',\n",
    "                'fuente_Reference',\n",
    "                'score_actividad_mms',\n",
    "                'score_perfil_mms',\n",
    "                'ambito_Banking, Investment And Insurance',\n",
    "                'ambito_Business Administration',\n",
    "                'ambito_Finance Management',\n",
    "                'ambito_Human Resource Management',\n",
    "                'ambito_IT Projects Management',\n",
    "                'ambito_International Business',\n",
    "                'ambito_Marketing Management',\n",
    "                'ambito_Media and Advertising',\n",
    "                'ambito_OTHER',\n",
    "                'ambito_Operations Management',\n",
    "                'ambito_Select',\n",
    "                'ambito_Supply Chain Management',\n",
    "                'ambito_Travel and Tourism',\n",
    "                'descarga_lm_No',\n",
    "                'descarga_lm_Yes',\n",
    "                'visitas_total_mms',\n",
    "                'paginas_vistas_visita_mms'], inplace = True)"
   ]
  },
  {
   "cell_type": "markdown",
   "id": "0a44ed7d",
   "metadata": {},
   "source": [
    "Segmentation shoosen after solutions analysis"
   ]
  },
  {
   "cell_type": "code",
   "execution_count": 24,
   "id": "eeaa3ea1",
   "metadata": {},
   "outputs": [],
   "source": [
    "min_k = 3\n",
    "max_k = 7\n",
    "\n",
    "solutions = list(range(min_k,max_k))"
   ]
  },
  {
   "cell_type": "code",
   "execution_count": 25,
   "id": "6715368c",
   "metadata": {},
   "outputs": [],
   "source": [
    "\n",
    "\n",
    "codo = []\n",
    "silueta = []\n",
    "calins = []\n",
    "davies = []"
   ]
  },
  {
   "cell_type": "markdown",
   "id": "159b78b6",
   "metadata": {},
   "source": [
    "### solution Space Analysis"
   ]
  },
  {
   "cell_type": "code",
   "execution_count": 26,
   "id": "4b2f40be",
   "metadata": {},
   "outputs": [],
   "source": [
    "for solution in solutions:\n",
    "    \n",
    "    #Fit\n",
    "    cluster = KMeans(n_clusters = solution, n_init=10)\n",
    "    cluster.fit(df)\n",
    "    \n",
    "    #Metrics\n",
    "    codo.append(cluster.inertia_)\n",
    "    silueta.append(silhouette_score(df, cluster.labels_))\n",
    "    calins.append(calinski_harabasz_score(df, cluster.labels_))\n",
    "    davies.append(davies_bouldin_score(df, cluster.labels_))"
   ]
  },
  {
   "cell_type": "markdown",
   "id": "ba26fca9",
   "metadata": {},
   "source": [
    "#### Metrics Analysis"
   ]
  },
  {
   "cell_type": "code",
   "execution_count": 27,
   "id": "30f9904f",
   "metadata": {},
   "outputs": [
    {
     "data": {
      "text/html": [
       "<div>\n",
       "<style scoped>\n",
       "    .dataframe tbody tr th:only-of-type {\n",
       "        vertical-align: middle;\n",
       "    }\n",
       "\n",
       "    .dataframe tbody tr th {\n",
       "        vertical-align: top;\n",
       "    }\n",
       "\n",
       "    .dataframe thead th {\n",
       "        text-align: right;\n",
       "    }\n",
       "</style>\n",
       "<table border=\"1\" class=\"dataframe\">\n",
       "  <thead>\n",
       "    <tr style=\"text-align: right;\">\n",
       "      <th></th>\n",
       "      <th>Codo</th>\n",
       "      <th>Silueta</th>\n",
       "      <th>Calins</th>\n",
       "      <th>Davies</th>\n",
       "    </tr>\n",
       "    <tr>\n",
       "      <th>Solution</th>\n",
       "      <th></th>\n",
       "      <th></th>\n",
       "      <th></th>\n",
       "      <th></th>\n",
       "    </tr>\n",
       "  </thead>\n",
       "  <tbody>\n",
       "    <tr>\n",
       "      <th>3</th>\n",
       "      <td>5338.17</td>\n",
       "      <td>0.29</td>\n",
       "      <td>1382.61</td>\n",
       "      <td>1.52</td>\n",
       "    </tr>\n",
       "    <tr>\n",
       "      <th>4</th>\n",
       "      <td>4793.06</td>\n",
       "      <td>0.30</td>\n",
       "      <td>1208.70</td>\n",
       "      <td>1.66</td>\n",
       "    </tr>\n",
       "    <tr>\n",
       "      <th>5</th>\n",
       "      <td>4275.46</td>\n",
       "      <td>0.32</td>\n",
       "      <td>1161.61</td>\n",
       "      <td>1.59</td>\n",
       "    </tr>\n",
       "    <tr>\n",
       "      <th>6</th>\n",
       "      <td>3862.05</td>\n",
       "      <td>0.36</td>\n",
       "      <td>1131.48</td>\n",
       "      <td>1.48</td>\n",
       "    </tr>\n",
       "  </tbody>\n",
       "</table>\n",
       "</div>"
      ],
      "text/plain": [
       "            Codo  Silueta  Calins  Davies\n",
       "Solution                                 \n",
       "3        5338.17     0.29 1382.61    1.52\n",
       "4        4793.06     0.30 1208.70    1.66\n",
       "5        4275.46     0.32 1161.61    1.59\n",
       "6        3862.05     0.36 1131.48    1.48"
      ]
     },
     "execution_count": 27,
     "metadata": {},
     "output_type": "execute_result"
    }
   ],
   "source": [
    "metrics = pd.DataFrame({'Solution':solutions,\n",
    "              'Codo': codo,\n",
    "              'Silueta':silueta,\n",
    "              'Calins':calins,           \n",
    "              'Davies':davies}).set_index('Solution')\n",
    "\n",
    "metrics"
   ]
  },
  {
   "cell_type": "markdown",
   "id": "1f5164a5",
   "metadata": {},
   "source": [
    "#### Plot Analysis"
   ]
  },
  {
   "cell_type": "code",
   "execution_count": 28,
   "id": "16a81e6d",
   "metadata": {
    "scrolled": true
   },
   "outputs": [
    {
     "data": {
      "image/png": "[encoded data removed]",
      "text/plain": [
       "<Figure size 1200x800 with 4 Axes>"
      ]
     },
     "metadata": {},
     "output_type": "display_data"
    }
   ],
   "source": [
    "metrics.plot(subplots = True, figsize = (12,8), layout = (2,2), sharex = False);"
   ]
  },
  {
   "cell_type": "markdown",
   "id": "99e34c6f",
   "metadata": {},
   "source": [
    "### Final Segmentation for the Best Solution"
   ]
  },
  {
   "cell_type": "code",
   "execution_count": 29,
   "id": "3ebc920f",
   "metadata": {},
   "outputs": [
    {
     "data": {
      "text/html": [
       "<style>#sk-container-id-1 {color: black;background-color: white;}#sk-container-id-1 pre{padding: 0;}#sk-container-id-1 div.sk-toggleable {background-color: white;}#sk-container-id-1 label.sk-toggleable__label {cursor: pointer;display: block;width: 100%;margin-bottom: 0;padding: 0.3em;box-sizing: border-box;text-align: center;}#sk-container-id-1 label.sk-toggleable__label-arrow:before {content: \"▸\";float: left;margin-right: 0.25em;color: #696969;}#sk-container-id-1 label.sk-toggleable__label-arrow:hover:before {color: black;}#sk-container-id-1 div.sk-estimator:hover label.sk-toggleable__label-arrow:before {color: black;}#sk-container-id-1 div.sk-toggleable__content {max-height: 0;max-width: 0;overflow: hidden;text-align: left;background-color: #f0f8ff;}#sk-container-id-1 div.sk-toggleable__content pre {margin: 0.2em;color: black;border-radius: 0.25em;background-color: #f0f8ff;}#sk-container-id-1 input.sk-toggleable__control:checked~div.sk-toggleable__content {max-height: 200px;max-width: 100%;overflow: auto;}#sk-container-id-1 input.sk-toggleable__control:checked~label.sk-toggleable__label-arrow:before {content: \"▾\";}#sk-container-id-1 div.sk-estimator input.sk-toggleable__control:checked~label.sk-toggleable__label {background-color: #d4ebff;}#sk-container-id-1 div.sk-label input.sk-toggleable__control:checked~label.sk-toggleable__label {background-color: #d4ebff;}#sk-container-id-1 input.sk-hidden--visually {border: 0;clip: rect(1px 1px 1px 1px);clip: rect(1px, 1px, 1px, 1px);height: 1px;margin: -1px;overflow: hidden;padding: 0;position: absolute;width: 1px;}#sk-container-id-1 div.sk-estimator {font-family: monospace;background-color: #f0f8ff;border: 1px dotted black;border-radius: 0.25em;box-sizing: border-box;margin-bottom: 0.5em;}#sk-container-id-1 div.sk-estimator:hover {background-color: #d4ebff;}#sk-container-id-1 div.sk-parallel-item::after {content: \"\";width: 100%;border-bottom: 1px solid gray;flex-grow: 1;}#sk-container-id-1 div.sk-label:hover label.sk-toggleable__label {background-color: #d4ebff;}#sk-container-id-1 div.sk-serial::before {content: \"\";position: absolute;border-left: 1px solid gray;box-sizing: border-box;top: 0;bottom: 0;left: 50%;z-index: 0;}#sk-container-id-1 div.sk-serial {display: flex;flex-direction: column;align-items: center;background-color: white;padding-right: 0.2em;padding-left: 0.2em;position: relative;}#sk-container-id-1 div.sk-item {position: relative;z-index: 1;}#sk-container-id-1 div.sk-parallel {display: flex;align-items: stretch;justify-content: center;background-color: white;position: relative;}#sk-container-id-1 div.sk-item::before, #sk-container-id-1 div.sk-parallel-item::before {content: \"\";position: absolute;border-left: 1px solid gray;box-sizing: border-box;top: 0;bottom: 0;left: 50%;z-index: -1;}#sk-container-id-1 div.sk-parallel-item {display: flex;flex-direction: column;z-index: 1;position: relative;background-color: white;}#sk-container-id-1 div.sk-parallel-item:first-child::after {align-self: flex-end;width: 50%;}#sk-container-id-1 div.sk-parallel-item:last-child::after {align-self: flex-start;width: 50%;}#sk-container-id-1 div.sk-parallel-item:only-child::after {width: 0;}#sk-container-id-1 div.sk-dashed-wrapped {border: 1px dashed gray;margin: 0 0.4em 0.5em 0.4em;box-sizing: border-box;padding-bottom: 0.4em;background-color: white;}#sk-container-id-1 div.sk-label label {font-family: monospace;font-weight: bold;display: inline-block;line-height: 1.2em;}#sk-container-id-1 div.sk-label-container {text-align: center;}#sk-container-id-1 div.sk-container {/* jupyter's `normalize.less` sets `[hidden] { display: none; }` but bootstrap.min.css set `[hidden] { display: none !important; }` so we also need the `!important` here to be able to override the default hidden behavior on the sphinx rendered scikit-learn.org. See: https://github.com/scikit-learn/scikit-learn/issues/21755 */display: inline-block !important;position: relative;}#sk-container-id-1 div.sk-text-repr-fallback {display: none;}</style><div id=\"sk-container-id-1\" class=\"sk-top-container\"><div class=\"sk-text-repr-fallback\"><pre>KMeans(n_clusters=6, n_init=10)</pre><b>In a Jupyter environment, please rerun this cell to show the HTML representation or trust the notebook. <br />On GitHub, the HTML representation is unable to render, please try loading this page with nbviewer.org.</b></div><div class=\"sk-container\" hidden><div class=\"sk-item\"><div class=\"sk-estimator sk-toggleable\"><input class=\"sk-toggleable__control sk-hidden--visually\" id=\"sk-estimator-id-1\" type=\"checkbox\" checked><label for=\"sk-estimator-id-1\" class=\"sk-toggleable__label sk-toggleable__label-arrow\">KMeans</label><div class=\"sk-toggleable__content\"><pre>KMeans(n_clusters=6, n_init=10)</pre></div></div></div></div></div>"
      ],
      "text/plain": [
       "KMeans(n_clusters=6, n_init=10)"
      ]
     },
     "execution_count": 29,
     "metadata": {},
     "output_type": "execute_result"
    }
   ],
   "source": [
    "Best_solution = 6\n",
    "\n",
    "#Fit\n",
    "cluster = KMeans(n_clusters = Best_solution, n_init=10)\n",
    "cluster.fit(df)"
   ]
  },
  {
   "cell_type": "markdown",
   "id": "fd6f59ab",
   "metadata": {},
   "source": [
    "## EVALUATION"
   ]
  },
  {
   "cell_type": "code",
   "execution_count": 30,
   "id": "874aa873",
   "metadata": {},
   "outputs": [],
   "source": [
    "df['segment'] = cluster.predict(df)"
   ]
  },
  {
   "cell_type": "markdown",
   "id": "87d46a1d",
   "metadata": {},
   "source": [
    "## MAKE SEGMENTATION"
   ]
  },
  {
   "cell_type": "code",
   "execution_count": 31,
   "id": "f32990c1",
   "metadata": {},
   "outputs": [
    {
     "data": {
      "text/html": [
       "<style type=\"text/css\">\n",
       "#T_87f6b_row0_col0, #T_87f6b_row0_col1, #T_87f6b_row0_col5, #T_87f6b_row1_col2, #T_87f6b_row1_col3, #T_87f6b_row2_col2, #T_87f6b_row3_col2, #T_87f6b_row3_col3, #T_87f6b_row4_col0, #T_87f6b_row4_col1, #T_87f6b_row4_col2, #T_87f6b_row5_col0, #T_87f6b_row5_col1, #T_87f6b_row5_col2, #T_87f6b_row6_col0, #T_87f6b_row6_col1, #T_87f6b_row6_col2, #T_87f6b_row7_col1, #T_87f6b_row7_col3, #T_87f6b_row7_col5, #T_87f6b_row8_col0, #T_87f6b_row8_col1, #T_87f6b_row8_col2, #T_87f6b_row9_col0, #T_87f6b_row9_col1, #T_87f6b_row9_col2, #T_87f6b_row10_col0, #T_87f6b_row10_col2, #T_87f6b_row10_col5, #T_87f6b_row11_col3, #T_87f6b_row12_col1, #T_87f6b_row13_col1, #T_87f6b_row14_col4, #T_87f6b_row15_col0, #T_87f6b_row15_col1, #T_87f6b_row15_col5, #T_87f6b_row16_col2, #T_87f6b_row17_col5 {\n",
       "  background-color: red;\n",
       "}\n",
       "#T_87f6b_row0_col2, #T_87f6b_row1_col1, #T_87f6b_row2_col4, #T_87f6b_row3_col5, #T_87f6b_row4_col3, #T_87f6b_row5_col5, #T_87f6b_row6_col5, #T_87f6b_row7_col0, #T_87f6b_row7_col2, #T_87f6b_row8_col5, #T_87f6b_row9_col5, #T_87f6b_row10_col1, #T_87f6b_row11_col4, #T_87f6b_row12_col4, #T_87f6b_row13_col2, #T_87f6b_row14_col1, #T_87f6b_row15_col4, #T_87f6b_row16_col4, #T_87f6b_row17_col4 {\n",
       "  background-color: green;\n",
       "}\n",
       "</style>\n",
       "<table id=\"T_87f6b\">\n",
       "  <thead>\n",
       "    <tr>\n",
       "      <th class=\"index_name level0\" >segment</th>\n",
       "      <th id=\"T_87f6b_level0_col0\" class=\"col_heading level0 col0\" >0</th>\n",
       "      <th id=\"T_87f6b_level0_col1\" class=\"col_heading level0 col1\" >1</th>\n",
       "      <th id=\"T_87f6b_level0_col2\" class=\"col_heading level0 col2\" >2</th>\n",
       "      <th id=\"T_87f6b_level0_col3\" class=\"col_heading level0 col3\" >3</th>\n",
       "      <th id=\"T_87f6b_level0_col4\" class=\"col_heading level0 col4\" >4</th>\n",
       "      <th id=\"T_87f6b_level0_col5\" class=\"col_heading level0 col5\" >5</th>\n",
       "    </tr>\n",
       "  </thead>\n",
       "  <tbody>\n",
       "    <tr>\n",
       "      <th id=\"T_87f6b_level0_row0\" class=\"row_heading level0 row0\" >origen_API</th>\n",
       "      <td id=\"T_87f6b_row0_col0\" class=\"data row0 col0\" >0.000000</td>\n",
       "      <td id=\"T_87f6b_row0_col1\" class=\"data row0 col1\" >0.000000</td>\n",
       "      <td id=\"T_87f6b_row0_col2\" class=\"data row0 col2\" >1.000000</td>\n",
       "      <td id=\"T_87f6b_row0_col3\" class=\"data row0 col3\" >0.998811</td>\n",
       "      <td id=\"T_87f6b_row0_col4\" class=\"data row0 col4\" >0.219400</td>\n",
       "      <td id=\"T_87f6b_row0_col5\" class=\"data row0 col5\" >0.000000</td>\n",
       "    </tr>\n",
       "    <tr>\n",
       "      <th id=\"T_87f6b_level0_row1\" class=\"row_heading level0 row1\" >origen_Landing Page Submission</th>\n",
       "      <td id=\"T_87f6b_row1_col0\" class=\"data row1 col0\" >0.948353</td>\n",
       "      <td id=\"T_87f6b_row1_col1\" class=\"data row1 col1\" >0.950265</td>\n",
       "      <td id=\"T_87f6b_row1_col2\" class=\"data row1 col2\" >0.000000</td>\n",
       "      <td id=\"T_87f6b_row1_col3\" class=\"data row1 col3\" >0.000000</td>\n",
       "      <td id=\"T_87f6b_row1_col4\" class=\"data row1 col4\" >0.568129</td>\n",
       "      <td id=\"T_87f6b_row1_col5\" class=\"data row1 col5\" >0.901130</td>\n",
       "    </tr>\n",
       "    <tr>\n",
       "      <th id=\"T_87f6b_level0_row2\" class=\"row_heading level0 row2\" >origen_Lead Add Form</th>\n",
       "      <td id=\"T_87f6b_row2_col0\" class=\"data row2 col0\" >0.040419</td>\n",
       "      <td id=\"T_87f6b_row2_col1\" class=\"data row2 col1\" >0.040212</td>\n",
       "      <td id=\"T_87f6b_row2_col2\" class=\"data row2 col2\" >0.000000</td>\n",
       "      <td id=\"T_87f6b_row2_col3\" class=\"data row2 col3\" >0.001189</td>\n",
       "      <td id=\"T_87f6b_row2_col4\" class=\"data row2 col4\" >0.207852</td>\n",
       "      <td id=\"T_87f6b_row2_col5\" class=\"data row2 col5\" >0.081921</td>\n",
       "    </tr>\n",
       "    <tr>\n",
       "      <th id=\"T_87f6b_level0_row3\" class=\"row_heading level0 row3\" >origen_OTHER</th>\n",
       "      <td id=\"T_87f6b_row3_col0\" class=\"data row3 col0\" >0.011228</td>\n",
       "      <td id=\"T_87f6b_row3_col1\" class=\"data row3 col1\" >0.009524</td>\n",
       "      <td id=\"T_87f6b_row3_col2\" class=\"data row3 col2\" >0.000000</td>\n",
       "      <td id=\"T_87f6b_row3_col3\" class=\"data row3 col3\" >0.000000</td>\n",
       "      <td id=\"T_87f6b_row3_col4\" class=\"data row3 col4\" >0.004619</td>\n",
       "      <td id=\"T_87f6b_row3_col5\" class=\"data row3 col5\" >0.016949</td>\n",
       "    </tr>\n",
       "    <tr>\n",
       "      <th id=\"T_87f6b_level0_row4\" class=\"row_heading level0 row4\" >ult_actividad_Chat Conversation</th>\n",
       "      <td id=\"T_87f6b_row4_col0\" class=\"data row4 col0\" >0.000000</td>\n",
       "      <td id=\"T_87f6b_row4_col1\" class=\"data row4 col1\" >0.000000</td>\n",
       "      <td id=\"T_87f6b_row4_col2\" class=\"data row4 col2\" >0.000000</td>\n",
       "      <td id=\"T_87f6b_row4_col3\" class=\"data row4 col3\" >0.244946</td>\n",
       "      <td id=\"T_87f6b_row4_col4\" class=\"data row4 col4\" >0.013857</td>\n",
       "      <td id=\"T_87f6b_row4_col5\" class=\"data row4 col5\" >0.073446</td>\n",
       "    </tr>\n",
       "    <tr>\n",
       "      <th id=\"T_87f6b_level0_row5\" class=\"row_heading level0 row5\" >ult_actividad_Converted to Lead</th>\n",
       "      <td id=\"T_87f6b_row5_col0\" class=\"data row5 col0\" >0.000000</td>\n",
       "      <td id=\"T_87f6b_row5_col1\" class=\"data row5 col1\" >0.000000</td>\n",
       "      <td id=\"T_87f6b_row5_col2\" class=\"data row5 col2\" >0.000000</td>\n",
       "      <td id=\"T_87f6b_row5_col3\" class=\"data row5 col3\" >0.120095</td>\n",
       "      <td id=\"T_87f6b_row5_col4\" class=\"data row5 col4\" >0.032333</td>\n",
       "      <td id=\"T_87f6b_row5_col5\" class=\"data row5 col5\" >0.240113</td>\n",
       "    </tr>\n",
       "    <tr>\n",
       "      <th id=\"T_87f6b_level0_row6\" class=\"row_heading level0 row6\" >ult_actividad_Email Link Clicked</th>\n",
       "      <td id=\"T_87f6b_row6_col0\" class=\"data row6 col0\" >0.000000</td>\n",
       "      <td id=\"T_87f6b_row6_col1\" class=\"data row6 col1\" >0.000000</td>\n",
       "      <td id=\"T_87f6b_row6_col2\" class=\"data row6 col2\" >0.000000</td>\n",
       "      <td id=\"T_87f6b_row6_col3\" class=\"data row6 col3\" >0.061831</td>\n",
       "      <td id=\"T_87f6b_row6_col4\" class=\"data row6 col4\" >0.032333</td>\n",
       "      <td id=\"T_87f6b_row6_col5\" class=\"data row6 col5\" >0.122881</td>\n",
       "    </tr>\n",
       "    <tr>\n",
       "      <th id=\"T_87f6b_level0_row7\" class=\"row_heading level0 row7\" >ult_actividad_Email Opened</th>\n",
       "      <td id=\"T_87f6b_row7_col0\" class=\"data row7 col0\" >1.000000</td>\n",
       "      <td id=\"T_87f6b_row7_col1\" class=\"data row7 col1\" >0.000000</td>\n",
       "      <td id=\"T_87f6b_row7_col2\" class=\"data row7 col2\" >1.000000</td>\n",
       "      <td id=\"T_87f6b_row7_col3\" class=\"data row7 col3\" >0.000000</td>\n",
       "      <td id=\"T_87f6b_row7_col4\" class=\"data row7 col4\" >0.387991</td>\n",
       "      <td id=\"T_87f6b_row7_col5\" class=\"data row7 col5\" >0.000000</td>\n",
       "    </tr>\n",
       "    <tr>\n",
       "      <th id=\"T_87f6b_level0_row8\" class=\"row_heading level0 row8\" >ult_actividad_OTHER</th>\n",
       "      <td id=\"T_87f6b_row8_col0\" class=\"data row8 col0\" >0.000000</td>\n",
       "      <td id=\"T_87f6b_row8_col1\" class=\"data row8 col1\" >0.000000</td>\n",
       "      <td id=\"T_87f6b_row8_col2\" class=\"data row8 col2\" >0.000000</td>\n",
       "      <td id=\"T_87f6b_row8_col3\" class=\"data row8 col3\" >0.046373</td>\n",
       "      <td id=\"T_87f6b_row8_col4\" class=\"data row8 col4\" >0.073903</td>\n",
       "      <td id=\"T_87f6b_row8_col5\" class=\"data row8 col5\" >0.234463</td>\n",
       "    </tr>\n",
       "    <tr>\n",
       "      <th id=\"T_87f6b_level0_row9\" class=\"row_heading level0 row9\" >ult_actividad_Page Visited on Website</th>\n",
       "      <td id=\"T_87f6b_row9_col0\" class=\"data row9 col0\" >0.000000</td>\n",
       "      <td id=\"T_87f6b_row9_col1\" class=\"data row9 col1\" >0.000000</td>\n",
       "      <td id=\"T_87f6b_row9_col2\" class=\"data row9 col2\" >0.000000</td>\n",
       "      <td id=\"T_87f6b_row9_col3\" class=\"data row9 col3\" >0.122473</td>\n",
       "      <td id=\"T_87f6b_row9_col4\" class=\"data row9 col4\" >0.046189</td>\n",
       "      <td id=\"T_87f6b_row9_col5\" class=\"data row9 col5\" >0.329096</td>\n",
       "    </tr>\n",
       "    <tr>\n",
       "      <th id=\"T_87f6b_level0_row10\" class=\"row_heading level0 row10\" >ult_actividad_SMS Sent</th>\n",
       "      <td id=\"T_87f6b_row10_col0\" class=\"data row10 col0\" >0.000000</td>\n",
       "      <td id=\"T_87f6b_row10_col1\" class=\"data row10 col1\" >1.000000</td>\n",
       "      <td id=\"T_87f6b_row10_col2\" class=\"data row10 col2\" >0.000000</td>\n",
       "      <td id=\"T_87f6b_row10_col3\" class=\"data row10 col3\" >0.404281</td>\n",
       "      <td id=\"T_87f6b_row10_col4\" class=\"data row10 col4\" >0.413395</td>\n",
       "      <td id=\"T_87f6b_row10_col5\" class=\"data row10 col5\" >0.000000</td>\n",
       "    </tr>\n",
       "    <tr>\n",
       "      <th id=\"T_87f6b_level0_row11\" class=\"row_heading level0 row11\" >ambito_Healthcare Management</th>\n",
       "      <td id=\"T_87f6b_row11_col0\" class=\"data row11 col0\" >0.025449</td>\n",
       "      <td id=\"T_87f6b_row11_col1\" class=\"data row11 col1\" >0.017989</td>\n",
       "      <td id=\"T_87f6b_row11_col2\" class=\"data row11 col2\" >0.018149</td>\n",
       "      <td id=\"T_87f6b_row11_col3\" class=\"data row11 col3\" >0.003567</td>\n",
       "      <td id=\"T_87f6b_row11_col4\" class=\"data row11 col4\" >0.043880</td>\n",
       "      <td id=\"T_87f6b_row11_col5\" class=\"data row11 col5\" >0.019774</td>\n",
       "    </tr>\n",
       "    <tr>\n",
       "      <th id=\"T_87f6b_level0_row12\" class=\"row_heading level0 row12\" >ocupacion_OTHER</th>\n",
       "      <td id=\"T_87f6b_row12_col0\" class=\"data row12 col0\" >0.005240</td>\n",
       "      <td id=\"T_87f6b_row12_col1\" class=\"data row12 col1\" >0.000000</td>\n",
       "      <td id=\"T_87f6b_row12_col2\" class=\"data row12 col2\" >0.007260</td>\n",
       "      <td id=\"T_87f6b_row12_col3\" class=\"data row12 col3\" >0.007134</td>\n",
       "      <td id=\"T_87f6b_row12_col4\" class=\"data row12 col4\" >0.009238</td>\n",
       "      <td id=\"T_87f6b_row12_col5\" class=\"data row12 col5\" >0.004237</td>\n",
       "    </tr>\n",
       "    <tr>\n",
       "      <th id=\"T_87f6b_level0_row13\" class=\"row_heading level0 row13\" >ocupacion_Student</th>\n",
       "      <td id=\"T_87f6b_row13_col0\" class=\"data row13 col0\" >0.025449</td>\n",
       "      <td id=\"T_87f6b_row13_col1\" class=\"data row13 col1\" >0.019048</td>\n",
       "      <td id=\"T_87f6b_row13_col2\" class=\"data row13 col2\" >0.034483</td>\n",
       "      <td id=\"T_87f6b_row13_col3\" class=\"data row13 col3\" >0.022592</td>\n",
       "      <td id=\"T_87f6b_row13_col4\" class=\"data row13 col4\" >0.030023</td>\n",
       "      <td id=\"T_87f6b_row13_col5\" class=\"data row13 col5\" >0.019774</td>\n",
       "    </tr>\n",
       "    <tr>\n",
       "      <th id=\"T_87f6b_level0_row14\" class=\"row_heading level0 row14\" >ocupacion_Unemployed</th>\n",
       "      <td id=\"T_87f6b_row14_col0\" class=\"data row14 col0\" >0.969311</td>\n",
       "      <td id=\"T_87f6b_row14_col1\" class=\"data row14 col1\" >0.980952</td>\n",
       "      <td id=\"T_87f6b_row14_col2\" class=\"data row14 col2\" >0.950998</td>\n",
       "      <td id=\"T_87f6b_row14_col3\" class=\"data row14 col3\" >0.966706</td>\n",
       "      <td id=\"T_87f6b_row14_col4\" class=\"data row14 col4\" >0.000000</td>\n",
       "      <td id=\"T_87f6b_row14_col5\" class=\"data row14 col5\" >0.975989</td>\n",
       "    </tr>\n",
       "    <tr>\n",
       "      <th id=\"T_87f6b_level0_row15\" class=\"row_heading level0 row15\" >ocupacion_Working Professional</th>\n",
       "      <td id=\"T_87f6b_row15_col0\" class=\"data row15 col0\" >0.000000</td>\n",
       "      <td id=\"T_87f6b_row15_col1\" class=\"data row15 col1\" >0.000000</td>\n",
       "      <td id=\"T_87f6b_row15_col2\" class=\"data row15 col2\" >0.007260</td>\n",
       "      <td id=\"T_87f6b_row15_col3\" class=\"data row15 col3\" >0.003567</td>\n",
       "      <td id=\"T_87f6b_row15_col4\" class=\"data row15 col4\" >0.960739</td>\n",
       "      <td id=\"T_87f6b_row15_col5\" class=\"data row15 col5\" >0.000000</td>\n",
       "    </tr>\n",
       "    <tr>\n",
       "      <th id=\"T_87f6b_level0_row16\" class=\"row_heading level0 row16\" >tiempo_en_site_total_mms</th>\n",
       "      <td id=\"T_87f6b_row16_col0\" class=\"data row16 col0\" >0.252272</td>\n",
       "      <td id=\"T_87f6b_row16_col1\" class=\"data row16 col1\" >0.300734</td>\n",
       "      <td id=\"T_87f6b_row16_col2\" class=\"data row16 col2\" >0.237469</td>\n",
       "      <td id=\"T_87f6b_row16_col3\" class=\"data row16 col3\" >0.242130</td>\n",
       "      <td id=\"T_87f6b_row16_col4\" class=\"data row16 col4\" >0.331176</td>\n",
       "      <td id=\"T_87f6b_row16_col5\" class=\"data row16 col5\" >0.250096</td>\n",
       "    </tr>\n",
       "    <tr>\n",
       "      <th id=\"T_87f6b_level0_row17\" class=\"row_heading level0 row17\" >compra</th>\n",
       "      <td id=\"T_87f6b_row17_col0\" class=\"data row17 col0\" >0.321856</td>\n",
       "      <td id=\"T_87f6b_row17_col1\" class=\"data row17 col1\" >0.528042</td>\n",
       "      <td id=\"T_87f6b_row17_col2\" class=\"data row17 col2\" >0.326679</td>\n",
       "      <td id=\"T_87f6b_row17_col3\" class=\"data row17 col3\" >0.374554</td>\n",
       "      <td id=\"T_87f6b_row17_col4\" class=\"data row17 col4\" >0.928406</td>\n",
       "      <td id=\"T_87f6b_row17_col5\" class=\"data row17 col5\" >0.282486</td>\n",
       "    </tr>\n",
       "  </tbody>\n",
       "</table>\n"
      ],
      "text/plain": [
       "<pandas.io.formats.style.Styler at 0x25b09d554e0>"
      ]
     },
     "execution_count": 31,
     "metadata": {},
     "output_type": "execute_result"
    }
   ],
   "source": [
    "df.groupby('segment').mean().T \\\n",
    "    .style.highlight_max(color = 'green', axis = 1) \\\n",
    "    .highlight_min(color = 'red', axis = 1)"
   ]
  },
  {
   "cell_type": "code",
   "execution_count": 32,
   "id": "b71a88c4",
   "metadata": {},
   "outputs": [
    {
     "data": {
      "text/plain": [
       "0   0.28\n",
       "1   0.20\n",
       "3   0.17\n",
       "5   0.15\n",
       "2   0.11\n",
       "4   0.09\n",
       "Name: segment, dtype: float64"
      ]
     },
     "execution_count": 32,
     "metadata": {},
     "output_type": "execute_result"
    }
   ],
   "source": [
    "df.segment.value_counts(normalize=True)"
   ]
  },
  {
   "cell_type": "code",
   "execution_count": null,
   "id": "dfe242d1",
   "metadata": {},
   "outputs": [],
   "source": []
  },
  {
   "cell_type": "code",
   "execution_count": null,
   "id": "71c6e2b7",
   "metadata": {},
   "outputs": [],
   "source": []
  },
  {
   "cell_type": "code",
   "execution_count": null,
   "id": "08b15fa2",
   "metadata": {},
   "outputs": [],
   "source": []
  },
  {
   "cell_type": "code",
   "execution_count": null,
   "id": "305113c5",
   "metadata": {},
   "outputs": [],
   "source": []
  }
 ],
 "metadata": {
  "kernelspec": {
   "display_name": "Python 3 (ipykernel)",
   "language": "python",
   "name": "python3"
  },
  "language_info": {
   "codemirror_mode": {
    "name": "ipython",
    "version": 3
   },
   "file_extension": ".py",
   "mimetype": "text/x-python",
   "name": "python",
   "nbconvert_exporter": "python",
   "pygments_lexer": "ipython3",
   "version": "3.10.8"
  },
  "toc": {
   "base_numbering": 1,
   "nav_menu": {},
   "number_sections": true,
   "sideBar": true,
   "skip_h1_title": false,
   "title_cell": "Table of Contents",
   "title_sidebar": "Contents",
   "toc_cell": false,
   "toc_position": {
    "height": "calc(100% - 180px)",
    "left": "10px",
    "top": "150px",
    "width": "253.95px"
   },
   "toc_section_display": true,
   "toc_window_display": true
  },
  "varInspector": {
   "cols": {
    "lenName": 16,
    "lenType": 16,
    "lenVar": 40
   },
   "kernels_config": {
    "python": {
     "delete_cmd_postfix": "",
     "delete_cmd_prefix": "del ",
     "library": "var_list.py",
     "varRefreshCmd": "print(var_dic_list())"
    },
    "r": {
     "delete_cmd_postfix": ") ",
     "delete_cmd_prefix": "rm(",
     "library": "var_list.r",
     "varRefreshCmd": "cat(var_dic_list()) "
    }
   },
   "position": {
    "height": "546.85px",
    "left": "1531.75px",
    "right": "20px",
    "top": "115px",
    "width": "350px"
   },
   "types_to_exclude": [
    "module",
    "function",
    "builtin_function_or_method",
    "instance",
    "_Feature"
   ],
   "window_display": false
  }
 },
 "nbformat": 4,
 "nbformat_minor": 5
}
