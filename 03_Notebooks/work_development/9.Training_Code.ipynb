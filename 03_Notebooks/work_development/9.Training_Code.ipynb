{
 "cells": [
  {
   "cell_type": "markdown",
   "id": "c7f65e25",
   "metadata": {},
   "source": [
    "# CODE TO FIT"
   ]
  },
  {
   "cell_type": "markdown",
   "id": "73a0f588",
   "metadata": {},
   "source": [
    "*NOTE: In order to use this training code, it must be launched from exactly the same environment in which it was created.*\n",
    "\n",
    "*You can install that environment on the new machine using the environment.yml that we created in the project setup*\n",
    "\n",
    "*Copy the project1.yml to the directory and in the terminal or anaconda prompt execute:*\n",
    "\n",
    "conda env create --file Leadscoring.yml --name Leadscoring"
   ]
  },
  {
   "cell_type": "code",
   "execution_count": 2,
   "id": "ffe7be80",
   "metadata": {},
   "outputs": [
    {
     "name": "stderr",
     "output_type": "stream",
     "text": [
      "C:\\Users\\luise\\anaconda3\\envs\\leadscoring\\Lib\\site-packages\\sklearn\\linear_model\\_logistic.py:1113: UserWarning: Setting penalty='none' will ignore the C and l1_ratio parameters\n",
      "  warnings.warn(\n"
     ]
    }
   ],
   "source": [
    "import numpy as np\n",
    "import pandas as pd\n",
    "import cloudpickle\n",
    "\n",
    "#Automcompletar rápido\n",
    "%config IPCompleter.greedy=True\n",
    "\n",
    "from sklearn.preprocessing import OneHotEncoder\n",
    "from sklearn.preprocessing import MinMaxScaler\n",
    "from sklearn.linear_model import LogisticRegression\n",
    "\n",
    "from sklearn.pipeline import Pipeline\n",
    "from sklearn.preprocessing import FunctionTransformer\n",
    "from sklearn.compose import make_column_transformer\n",
    "from sklearn.pipeline import make_pipeline\n",
    "\n",
    "\n",
    "path = '../../'\n",
    "\n",
    "name_data_file = 'Leads.csv'\n",
    "\n",
    "full_path = path + '/02_Data/01_Original/' + name_data_file\n",
    "\n",
    "df = pd.read_csv(full_path,index_col=0,sep = ';')\n",
    "\n",
    "df = df.drop_duplicates()\n",
    "df = df.loc[(df.no_llamar != \"OTHER\" )&(df.no_enviar_email!=\"Yes\")& (df.ult_actividad!=\"Email Bounced\")]\n",
    "                     \n",
    "final_variables = ['ambito',\n",
    "                   'descarga_lm',\n",
    "                   'score_perfil',\n",
    "                   'ocupacion',\n",
    "                   'paginas_vistas_visita',\n",
    "                   'score_actividad',\n",
    "                   'tiempo_en_site_total',\n",
    "                   'ult_actividad',\n",
    "                   'visitas_total',                     \n",
    "                  ]\n",
    "target = 'compra'\n",
    "\n",
    "x = df[final_variables].copy()\n",
    "\n",
    "y = df[target].copy()\n",
    "\n",
    "name_pipe_fit = 'pipe_fit.pickle'\n",
    "\n",
    "path_pipe_fit = path + '/04_Models/' + name_pipe_fit\n",
    "\n",
    "with open(path_pipe_fit, mode='rb') as file:\n",
    "   pipe_fit = cloudpickle.load(file)\n",
    "\n",
    "pipe_execution = pipe_fit.fit(x,y)\n",
    "\n",
    "name_pipe_execution = 'pipe_execution.pickle'\n",
    "\n",
    "path_pipe_execution = path + '/04_Models/' + name_pipe_execution\n",
    "\n",
    "with open(path_pipe_execution, mode='wb') as file:\n",
    "   cloudpickle.dump(pipe_execution, file)"
   ]
  }
 ],
 "metadata": {
  "kernelspec": {
   "display_name": "Python 3 (ipykernel)",
   "language": "python",
   "name": "python3"
  },
  "language_info": {
   "codemirror_mode": {
    "name": "ipython",
    "version": 3
   },
   "file_extension": ".py",
   "mimetype": "text/x-python",
   "name": "python",
   "nbconvert_exporter": "python",
   "pygments_lexer": "ipython3",
   "version": "3.11.0"
  },
  "toc": {
   "base_numbering": 1,
   "nav_menu": {},
   "number_sections": true,
   "sideBar": true,
   "skip_h1_title": false,
   "title_cell": "Table of Contents",
   "title_sidebar": "Contents",
   "toc_cell": false,
   "toc_position": {
    "height": "calc(100% - 180px)",
    "left": "10px",
    "top": "150px",
    "width": "193.5px"
   },
   "toc_section_display": true,
   "toc_window_display": true
  },
  "varInspector": {
   "cols": {
    "lenName": 16,
    "lenType": 16,
    "lenVar": 40
   },
   "kernels_config": {
    "python": {
     "delete_cmd_postfix": "",
     "delete_cmd_prefix": "del ",
     "library": "var_list.py",
     "varRefreshCmd": "print(var_dic_list())"
    },
    "r": {
     "delete_cmd_postfix": ") ",
     "delete_cmd_prefix": "rm(",
     "library": "var_list.r",
     "varRefreshCmd": "cat(var_dic_list()) "
    }
   },
   "position": {
    "height": "388.85px",
    "left": "1070px",
    "right": "20px",
    "top": "120px",
    "width": "350px"
   },
   "types_to_exclude": [
    "module",
    "function",
    "builtin_function_or_method",
    "instance",
    "_Feature"
   ],
   "window_display": false
  }
 },
 "nbformat": 4,
 "nbformat_minor": 5
}
